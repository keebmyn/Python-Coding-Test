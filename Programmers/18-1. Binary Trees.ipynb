{
 "cells": [
  {
   "cell_type": "code",
   "execution_count": null,
   "metadata": {
    "id": "VQMM4C0DeP6e"
   },
   "outputs": [],
   "source": [
    "# (1) 이진트리의 depth() 연산 구현\n",
    "\n",
    "class Node:\n",
    "    def __init__(self, item):\n",
    "        self.data = item\n",
    "        self.left = None\n",
    "        self.right = None\n",
    "\n",
    "    def size(self):\n",
    "        l = self.left.size() if self.left else 0\n",
    "        r = self.right.size() if self.right else 0\n",
    "        return l + r + 1\n",
    "\n",
    "    def depth(self):\n",
    "        l = self.left.depth() if self.left else 0\n",
    "        r = self.right.depth() if self.right else 0\n",
    "        return max(l, r) + 1\n",
    "    \n",
    "\n",
    "class BinaryTree:\n",
    "    def __init__(self, r):\n",
    "        self.root = r\n",
    "\n",
    "    def size(self):\n",
    "        if self.root:\n",
    "            return self.root.size()\n",
    "        else:\n",
    "            return 0\n",
    "\n",
    "    def depth(self):\n",
    "        if self.root:\n",
    "            return self.root.depth()\n",
    "        else:\n",
    "            return 0"
   ]
  }
 ],
 "metadata": {
  "colab": {
   "collapsed_sections": [
    "pyrUFAMz_gSq",
    "wxzDyAuUnDfj",
    "tUrKfUjRJ7jU",
    "iWimWddSinyI",
    "0U7Em3yxin90",
    "-fEC9wD-DK9J",
    "JUhYyA910Nr_",
    "qFQWyxLH6z57",
    "WPdlofInakS2",
    "SHiM4nvVwCoZ",
    "F8lQ7YGRusbq",
    "imoFDJNgusjy",
    "XgpBPBWousqX",
    "12W1ozuGus1n",
    "EEKA9WhmdN5b",
    "3LvzxZF5TUA1",
    "kabQAgxcTUTw"
   ],
   "name": "프로그래머스 어서와! 자료구조와 알고리즘은 처음이지?.ipynb",
   "provenance": []
  },
  "kernelspec": {
   "display_name": "Python 3",
   "language": "python",
   "name": "python3"
  },
  "language_info": {
   "codemirror_mode": {
    "name": "ipython",
    "version": 3
   },
   "file_extension": ".py",
   "mimetype": "text/x-python",
   "name": "python",
   "nbconvert_exporter": "python",
   "pygments_lexer": "ipython3",
   "version": "3.7.9"
  }
 },
 "nbformat": 4,
 "nbformat_minor": 1
}
