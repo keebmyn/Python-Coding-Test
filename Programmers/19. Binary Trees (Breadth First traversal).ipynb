{
 "cells": [
  {
   "cell_type": "code",
   "execution_count": null,
   "metadata": {
    "id": "MRn0um3i_Hmq"
   },
   "outputs": [],
   "source": [
    "class ArrayQueue:\n",
    "    def __init__(self):\n",
    "        self.data = []\n",
    "\n",
    "    def size(self):\n",
    "        return len(self.data)\n",
    "\n",
    "    def isEmpty(self):\n",
    "        return self.size() == 0\n",
    "\n",
    "    def enqueue(self, item):\n",
    "        self.data.append(item)\n",
    "\n",
    "    def dequeue(self):\n",
    "        return self.data.pop(0)\n",
    "\n",
    "    def peek(self):\n",
    "        return self.data[0]\n",
    "\n",
    "\n",
    "class Node:\n",
    "    def __init__(self, item):\n",
    "        self.data = item\n",
    "        self.left = None\n",
    "        self.right = None\n",
    "\n",
    "\n",
    "class BinaryTree:\n",
    "    def __init__(self, r):\n",
    "        self.root = r\n",
    "\n",
    "    def bft(self):\n",
    "        traversal = []\n",
    "        q = ArrayQueue()\n",
    "\n",
    "        if self.root:\n",
    "            q.enqueue(self.root)\n",
    "        \n",
    "        while not q.isEmpty():\n",
    "            node = q.dequeue()            \n",
    "            traversal.append(node.data)\n",
    "            if node.left:\n",
    "                q.enqueue(node.left)\n",
    "            if node.right:\n",
    "                q.enqueue(node.right)\n",
    "        \n",
    "        return traversal"
   ]
  }
 ],
 "metadata": {
  "colab": {
   "collapsed_sections": [
    "pyrUFAMz_gSq",
    "wxzDyAuUnDfj",
    "tUrKfUjRJ7jU",
    "iWimWddSinyI",
    "0U7Em3yxin90",
    "-fEC9wD-DK9J",
    "JUhYyA910Nr_",
    "qFQWyxLH6z57",
    "WPdlofInakS2",
    "SHiM4nvVwCoZ",
    "F8lQ7YGRusbq",
    "imoFDJNgusjy",
    "XgpBPBWousqX",
    "12W1ozuGus1n",
    "EEKA9WhmdN5b",
    "3LvzxZF5TUA1",
    "kabQAgxcTUTw"
   ],
   "name": "프로그래머스 어서와! 자료구조와 알고리즘은 처음이지?.ipynb",
   "provenance": []
  },
  "kernelspec": {
   "display_name": "Python 3",
   "language": "python",
   "name": "python3"
  },
  "language_info": {
   "codemirror_mode": {
    "name": "ipython",
    "version": 3
   },
   "file_extension": ".py",
   "mimetype": "text/x-python",
   "name": "python",
   "nbconvert_exporter": "python",
   "pygments_lexer": "ipython3",
   "version": "3.7.9"
  }
 },
 "nbformat": 4,
 "nbformat_minor": 1
}
