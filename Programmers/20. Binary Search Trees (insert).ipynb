{
 "cells": [
  {
   "cell_type": "code",
   "execution_count": null,
   "metadata": {
    "id": "sZtweL_aF_5d"
   },
   "outputs": [],
   "source": [
    "class Node:\n",
    "    def __init__(self, key, data):\n",
    "        self.key = key\n",
    "        self.data = data\n",
    "        self.left = None\n",
    "        self.right = None\n",
    "\n",
    "    def insert(self, key, data):\n",
    "        if key < self.key:\n",
    "            if self.left:\n",
    "                self.left.insert(key, data)\n",
    "            else:\n",
    "                self.left = Node(key, data)\n",
    "\n",
    "        elif key > self.key:\n",
    "            if self.right:\n",
    "                self.right.insert(key, data)\n",
    "            else:\n",
    "                self.right = Node(key, data)\n",
    "\n",
    "        else: # 중복된 key는 존재하지 않으므로\n",
    "            raise KeyError\n",
    "\n",
    "    def inorder(self):\n",
    "        traversal = []\n",
    "        if self.left:\n",
    "            traversal += self.left.inorder()\n",
    "        traversal.append(self) # self: node들의 리스트\n",
    "        if self.right:\n",
    "            traversal += self.right.inorder()\n",
    "        return traversal\n",
    "\n",
    "\n",
    "class BinSearchTree:\n",
    "    def __init__(self):\n",
    "        self.root = None\n",
    "\n",
    "    def insert(self, key, data):\n",
    "        if self.root:\n",
    "            self.root.insert(key, data)\n",
    "        else:\n",
    "            self.root = Node(key, data)\n",
    "\n",
    "    def inorder(self):\n",
    "        if self.root:\n",
    "            return self.root.inorder()\n",
    "        else:\n",
    "            return []"
   ]
  }
 ],
 "metadata": {
  "colab": {
   "collapsed_sections": [
    "pyrUFAMz_gSq",
    "wxzDyAuUnDfj",
    "tUrKfUjRJ7jU",
    "iWimWddSinyI",
    "0U7Em3yxin90",
    "-fEC9wD-DK9J",
    "JUhYyA910Nr_",
    "qFQWyxLH6z57",
    "WPdlofInakS2",
    "SHiM4nvVwCoZ",
    "F8lQ7YGRusbq",
    "imoFDJNgusjy",
    "XgpBPBWousqX",
    "12W1ozuGus1n",
    "EEKA9WhmdN5b",
    "3LvzxZF5TUA1",
    "kabQAgxcTUTw"
   ],
   "name": "프로그래머스 어서와! 자료구조와 알고리즘은 처음이지?.ipynb",
   "provenance": []
  },
  "kernelspec": {
   "display_name": "Python 3",
   "language": "python",
   "name": "python3"
  },
  "language_info": {
   "codemirror_mode": {
    "name": "ipython",
    "version": 3
   },
   "file_extension": ".py",
   "mimetype": "text/x-python",
   "name": "python",
   "nbconvert_exporter": "python",
   "pygments_lexer": "ipython3",
   "version": "3.7.9"
  }
 },
 "nbformat": 4,
 "nbformat_minor": 1
}
